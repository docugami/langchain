{
 "cells": [
  {
   "cell_type": "code",
   "execution_count": 1,
   "metadata": {},
   "outputs": [],
   "source": [
    "# magics to auto-reload external modules in case you are making changes to langchain while working on this notebook\n",
    "%load_ext autoreload\n",
    "%autoreload 2"
   ]
  },
  {
   "cell_type": "markdown",
   "metadata": {},
   "source": [
    "# OctoAI\n",
    "\n",
    ">[OctoML](https://docs.octoai.cloud/docs) is a service with efficient compute. It enables users to integrate their choice of AI models into applications. The `OctoAI` compute service helps you run, tune, and scale AI applications.\n",
    "\n",
    "This example goes over how to use LangChain to interact with `OctoAI` [LLM endpoints](https://octoai.cloud/templates)\n",
    "\n",
    "## Setup\n",
    "\n",
    "To run our example app, there are four simple steps to take:\n",
    "\n",
    "1. Clone the MPT-7B demo template to your OctoAI account by visiting <https://octoai.cloud/templates/mpt-7b-demo> then clicking \"Clone Template.\" \n",
    "   1. If you want to use a different LLM model, you can also containerize the model and make a custom OctoAI endpoint yourself, by following [Build a Container from Python](doc:create-custom-endpoints-from-python-code) and [Create a Custom Endpoint from a Container](doc:create-custom-endpoints-from-a-container)\n",
    "   \n",
    "2. Paste your Endpoint URL in the code cell below\n",
    "\n",
    "3. Get an API Token from [your OctoAI account page](https://octoai.cloud/settings).\n",
    "   \n",
    "4. Enter your API key when prompted"
   ]
  },
  {
   "cell_type": "code",
   "execution_count": 2,
   "metadata": {},
   "outputs": [],
   "source": [
    "import os\n",
    "import getpass\n",
    "\n",
    "if \"OCTOAI_API_TOKEN\" not in os.environ:\n",
    "    os.environ[\"OCTOAI_API_TOKEN\"] = getpass.getpass(\"OctoAI API Key:\")\n",
    "\n",
    "os.environ[\"ENDPOINT_URL\"] = \"https://mpt-7b-demo-kk0powt97tmb.octoai.cloud/generate\""
   ]
  },
  {
   "cell_type": "markdown",
   "metadata": {},
   "source": [
    "Install the [OctoAI python client](https://pypi.org/project/octoai-sdk/)"
   ]
  },
  {
   "cell_type": "code",
   "execution_count": 3,
   "metadata": {},
   "outputs": [],
   "source": [
    "!poetry run pip install octoai-sdk --quiet"
   ]
  },
  {
   "cell_type": "markdown",
   "metadata": {},
   "source": [
    "## Initialize Model"
   ]
  },
  {
   "cell_type": "code",
   "execution_count": 4,
   "metadata": {},
   "outputs": [
    {
     "name": "stderr",
     "output_type": "stream",
     "text": [
      "[autoreload of typing_extensions failed: Traceback (most recent call last):\n",
      "  File \"/Users/tjaffri/Source/github/docugami.langchain/libs/langchain/.venv/lib/python3.9/site-packages/IPython/extensions/autoreload.py\", line 276, in check\n",
      "    superreload(m, reload, self.old_objects)\n",
      "  File \"/Users/tjaffri/Source/github/docugami.langchain/libs/langchain/.venv/lib/python3.9/site-packages/IPython/extensions/autoreload.py\", line 475, in superreload\n",
      "    module = reload(module)\n",
      "  File \"/usr/local/Cellar/python@3.9/3.9.16/Frameworks/Python.framework/Versions/3.9/lib/python3.9/importlib/__init__.py\", line 169, in reload\n",
      "    _bootstrap._exec(spec, module)\n",
      "  File \"<frozen importlib._bootstrap>\", line 613, in _exec\n",
      "  File \"<frozen importlib._bootstrap_external>\", line 850, in exec_module\n",
      "  File \"<frozen importlib._bootstrap>\", line 228, in _call_with_frames_removed\n",
      "  File \"/Users/tjaffri/Source/github/docugami.langchain/libs/langchain/.venv/lib/python3.9/site-packages/typing_extensions.py\", line 733, in <module>\n",
      "    class SupportsAbs(Protocol[T_co]):\n",
      "  File \"/usr/local/Cellar/python@3.9/3.9.16/Frameworks/Python.framework/Versions/3.9/lib/python3.9/typing.py\", line 274, in inner\n",
      "    return cached(*args, **kwds)\n",
      "  File \"/usr/local/Cellar/python@3.9/3.9.16/Frameworks/Python.framework/Versions/3.9/lib/python3.9/typing.py\", line 1005, in __class_getitem__\n",
      "    return _GenericAlias(cls, params)\n",
      "  File \"/usr/local/Cellar/python@3.9/3.9.16/Frameworks/Python.framework/Versions/3.9/lib/python3.9/typing.py\", line 746, in __init__\n",
      "    self.__parameters__ = _collect_type_vars(params)\n",
      "NameError: name '_is_unpack' is not defined\n",
      "]\n"
     ]
    },
    {
     "ename": "ImportError",
     "evalue": "cannot import name 'TypeAliasType' from 'typing_extensions' (/Users/tjaffri/Source/github/docugami.langchain/libs/langchain/.venv/lib/python3.9/site-packages/typing_extensions.py)",
     "output_type": "error",
     "traceback": [
      "\u001b[0;31m---------------------------------------------------------------------------\u001b[0m",
      "\u001b[0;31mImportError\u001b[0m                               Traceback (most recent call last)",
      "File \u001b[0;32m~/Source/github/docugami.langchain/libs/langchain/langchain/pydantic_v1/__init__.py:15\u001b[0m\n\u001b[1;32m     14\u001b[0m \u001b[39mtry\u001b[39;00m:\n\u001b[0;32m---> 15\u001b[0m     \u001b[39mfrom\u001b[39;00m \u001b[39mpydantic\u001b[39;00m\u001b[39m.\u001b[39;00m\u001b[39mv1\u001b[39;00m \u001b[39mimport\u001b[39;00m \u001b[39m*\u001b[39m  \u001b[39m# noqa: F403\u001b[39;00m\n\u001b[1;32m     16\u001b[0m \u001b[39mexcept\u001b[39;00m \u001b[39mImportError\u001b[39;00m:\n",
      "File \u001b[0;32m~/Source/github/docugami.langchain/libs/langchain/.venv/lib/python3.9/site-packages/pydantic/__init__.py:12\u001b[0m\n\u001b[1;32m      4\u001b[0m \u001b[39mfrom\u001b[39;00m \u001b[39mpydantic_core\u001b[39;00m\u001b[39m.\u001b[39;00m\u001b[39mcore_schema\u001b[39;00m \u001b[39mimport\u001b[39;00m (\n\u001b[1;32m      5\u001b[0m     FieldSerializationInfo,\n\u001b[1;32m      6\u001b[0m     SerializationInfo,\n\u001b[0;32m   (...)\u001b[0m\n\u001b[1;32m      9\u001b[0m     ValidatorFunctionWrapHandler,\n\u001b[1;32m     10\u001b[0m )\n\u001b[0;32m---> 12\u001b[0m \u001b[39mfrom\u001b[39;00m \u001b[39m.\u001b[39;00m \u001b[39mimport\u001b[39;00m dataclasses\n\u001b[1;32m     13\u001b[0m \u001b[39mfrom\u001b[39;00m \u001b[39m.\u001b[39;00m\u001b[39m_internal\u001b[39;00m\u001b[39m.\u001b[39;00m\u001b[39m_generate_schema\u001b[39;00m \u001b[39mimport\u001b[39;00m GenerateSchema \u001b[39mas\u001b[39;00m GenerateSchema\n",
      "File \u001b[0;32m~/Source/github/docugami.langchain/libs/langchain/.venv/lib/python3.9/site-packages/pydantic/dataclasses.py:11\u001b[0m\n\u001b[1;32m      9\u001b[0m \u001b[39mfrom\u001b[39;00m \u001b[39mtyping_extensions\u001b[39;00m \u001b[39mimport\u001b[39;00m Literal, TypeGuard, dataclass_transform\n\u001b[0;32m---> 11\u001b[0m \u001b[39mfrom\u001b[39;00m \u001b[39m.\u001b[39;00m\u001b[39m_internal\u001b[39;00m \u001b[39mimport\u001b[39;00m _config, _decorators, _typing_extra\n\u001b[1;32m     12\u001b[0m \u001b[39mfrom\u001b[39;00m \u001b[39m.\u001b[39;00m\u001b[39m_internal\u001b[39;00m \u001b[39mimport\u001b[39;00m _dataclasses \u001b[39mas\u001b[39;00m _pydantic_dataclasses\n",
      "File \u001b[0;32m~/Source/github/docugami.langchain/libs/langchain/.venv/lib/python3.9/site-packages/pydantic/_internal/_decorators.py:15\u001b[0m\n\u001b[1;32m     14\u001b[0m \u001b[39mfrom\u001b[39;00m \u001b[39m.\u001b[39;00m\u001b[39m.\u001b[39;00m\u001b[39merrors\u001b[39;00m \u001b[39mimport\u001b[39;00m PydanticUserError\n\u001b[0;32m---> 15\u001b[0m \u001b[39mfrom\u001b[39;00m \u001b[39m.\u001b[39;00m\u001b[39m.\u001b[39;00m\u001b[39mfields\u001b[39;00m \u001b[39mimport\u001b[39;00m ComputedFieldInfo\n\u001b[1;32m     16\u001b[0m \u001b[39mfrom\u001b[39;00m \u001b[39m.\u001b[39;00m\u001b[39m_core_utils\u001b[39;00m \u001b[39mimport\u001b[39;00m get_type_ref\n",
      "File \u001b[0;32m~/Source/github/docugami.langchain/libs/langchain/.venv/lib/python3.9/site-packages/pydantic/fields.py:24\u001b[0m\n\u001b[1;32m     22\u001b[0m \u001b[39mfrom\u001b[39;00m \u001b[39mtyping_extensions\u001b[39;00m \u001b[39mimport\u001b[39;00m Literal, Unpack\n\u001b[0;32m---> 24\u001b[0m \u001b[39mfrom\u001b[39;00m \u001b[39m.\u001b[39;00m \u001b[39mimport\u001b[39;00m types\n\u001b[1;32m     25\u001b[0m \u001b[39mfrom\u001b[39;00m \u001b[39m.\u001b[39;00m\u001b[39m_internal\u001b[39;00m \u001b[39mimport\u001b[39;00m _decorators, _fields, _generics, _internal_dataclass, _repr, _typing_extra, _utils\n",
      "File \u001b[0;32m~/Source/github/docugami.langchain/libs/langchain/.venv/lib/python3.9/site-packages/pydantic/types.py:33\u001b[0m\n\u001b[1;32m     31\u001b[0m \u001b[39mfrom\u001b[39;00m \u001b[39mtyping_extensions\u001b[39;00m \u001b[39mimport\u001b[39;00m Annotated, Literal, Protocol, deprecated\n\u001b[0;32m---> 33\u001b[0m \u001b[39mfrom\u001b[39;00m \u001b[39m.\u001b[39;00m\u001b[39m_internal\u001b[39;00m \u001b[39mimport\u001b[39;00m _fields, _internal_dataclass, _utils, _validators\n\u001b[1;32m     34\u001b[0m \u001b[39mfrom\u001b[39;00m \u001b[39m.\u001b[39;00m\u001b[39m_migration\u001b[39;00m \u001b[39mimport\u001b[39;00m getattr_migration\n",
      "File \u001b[0;32m~/Source/github/docugami.langchain/libs/langchain/.venv/lib/python3.9/site-packages/pydantic/_internal/_fields.py:13\u001b[0m\n\u001b[1;32m     11\u001b[0m \u001b[39mfrom\u001b[39;00m \u001b[39mpydantic_core\u001b[39;00m \u001b[39mimport\u001b[39;00m PydanticUndefined\n\u001b[0;32m---> 13\u001b[0m \u001b[39mfrom\u001b[39;00m \u001b[39m.\u001b[39;00m \u001b[39mimport\u001b[39;00m _typing_extra\n\u001b[1;32m     14\u001b[0m \u001b[39mfrom\u001b[39;00m \u001b[39m.\u001b[39;00m\u001b[39m_config\u001b[39;00m \u001b[39mimport\u001b[39;00m ConfigWrapper\n",
      "File \u001b[0;32m~/Source/github/docugami.langchain/libs/langchain/.venv/lib/python3.9/site-packages/pydantic/_internal/_typing_extra.py:13\u001b[0m\n\u001b[1;32m     11\u001b[0m \u001b[39mfrom\u001b[39;00m \u001b[39mtyping\u001b[39;00m \u001b[39mimport\u001b[39;00m TYPE_CHECKING, Any, ForwardRef\n\u001b[0;32m---> 13\u001b[0m \u001b[39mfrom\u001b[39;00m \u001b[39mtyping_extensions\u001b[39;00m \u001b[39mimport\u001b[39;00m Annotated, Final, Literal, TypeAliasType, TypeGuard, get_args, get_origin\n\u001b[1;32m     15\u001b[0m \u001b[39mif\u001b[39;00m TYPE_CHECKING:\n",
      "\u001b[0;31mImportError\u001b[0m: cannot import name 'TypeAliasType' from 'typing_extensions' (/Users/tjaffri/Source/github/docugami.langchain/libs/langchain/.venv/lib/python3.9/site-packages/typing_extensions.py)",
      "\nDuring handling of the above exception, another exception occurred:\n",
      "\u001b[0;31mImportError\u001b[0m                               Traceback (most recent call last)",
      "\u001b[1;32m/Users/tjaffri/Source/github/docugami.langchain/docs/extras/integrations/llms/octoai.ipynb Cell 7\u001b[0m line \u001b[0;36m1\n\u001b[0;32m----> <a href='vscode-notebook-cell:/Users/tjaffri/Source/github/docugami.langchain/docs/extras/integrations/llms/octoai.ipynb#X14sZmlsZQ%3D%3D?line=0'>1</a>\u001b[0m \u001b[39mfrom\u001b[39;00m \u001b[39mlangchain\u001b[39;00m\u001b[39m.\u001b[39;00m\u001b[39mllms\u001b[39;00m\u001b[39m.\u001b[39;00m\u001b[39moctoai_endpoint\u001b[39;00m \u001b[39mimport\u001b[39;00m OctoAIEndpoint\n\u001b[1;32m      <a href='vscode-notebook-cell:/Users/tjaffri/Source/github/docugami.langchain/docs/extras/integrations/llms/octoai.ipynb#X14sZmlsZQ%3D%3D?line=2'>3</a>\u001b[0m \u001b[39m# Initialize the model specified above with the ENDPOINT_URL env var.\u001b[39;00m\n\u001b[1;32m      <a href='vscode-notebook-cell:/Users/tjaffri/Source/github/docugami.langchain/docs/extras/integrations/llms/octoai.ipynb#X14sZmlsZQ%3D%3D?line=3'>4</a>\u001b[0m \u001b[39m# Alternatively, you can set endpoint_url in the OctoAIEndpoint constructor.\u001b[39;00m\n\u001b[1;32m      <a href='vscode-notebook-cell:/Users/tjaffri/Source/github/docugami.langchain/docs/extras/integrations/llms/octoai.ipynb#X14sZmlsZQ%3D%3D?line=4'>5</a>\u001b[0m llm \u001b[39m=\u001b[39m OctoAIEndpoint(\n\u001b[1;32m      <a href='vscode-notebook-cell:/Users/tjaffri/Source/github/docugami.langchain/docs/extras/integrations/llms/octoai.ipynb#X14sZmlsZQ%3D%3D?line=5'>6</a>\u001b[0m     model_kwargs\u001b[39m=\u001b[39m{\n\u001b[1;32m      <a href='vscode-notebook-cell:/Users/tjaffri/Source/github/docugami.langchain/docs/extras/integrations/llms/octoai.ipynb#X14sZmlsZQ%3D%3D?line=6'>7</a>\u001b[0m         \u001b[39m\"\u001b[39m\u001b[39mmax_new_tokens\u001b[39m\u001b[39m\"\u001b[39m: \u001b[39m200\u001b[39m,\n\u001b[0;32m   (...)\u001b[0m\n\u001b[1;32m     <a href='vscode-notebook-cell:/Users/tjaffri/Source/github/docugami.langchain/docs/extras/integrations/llms/octoai.ipynb#X14sZmlsZQ%3D%3D?line=12'>13</a>\u001b[0m     },\n\u001b[1;32m     <a href='vscode-notebook-cell:/Users/tjaffri/Source/github/docugami.langchain/docs/extras/integrations/llms/octoai.ipynb#X14sZmlsZQ%3D%3D?line=13'>14</a>\u001b[0m )\n",
      "File \u001b[0;32m~/Source/github/docugami.langchain/libs/langchain/langchain/llms/__init__.py:22\u001b[0m\n\u001b[1;32m      1\u001b[0m \u001b[39m\"\"\"\u001b[39;00m\n\u001b[1;32m      2\u001b[0m \u001b[39m**LLM** classes provide\u001b[39;00m\n\u001b[1;32m      3\u001b[0m \u001b[39maccess to the large language model (**LLM**) APIs and services.\u001b[39;00m\n\u001b[0;32m   (...)\u001b[0m\n\u001b[1;32m     18\u001b[0m \u001b[39m    AIMessage, BaseMessage\u001b[39;00m\n\u001b[1;32m     19\u001b[0m \u001b[39m\"\"\"\u001b[39;00m  \u001b[39m# noqa: E501\u001b[39;00m\n\u001b[1;32m     20\u001b[0m \u001b[39mfrom\u001b[39;00m \u001b[39mtyping\u001b[39;00m \u001b[39mimport\u001b[39;00m Dict, Type\n\u001b[0;32m---> 22\u001b[0m \u001b[39mfrom\u001b[39;00m \u001b[39mlangchain\u001b[39;00m\u001b[39m.\u001b[39;00m\u001b[39mllms\u001b[39;00m\u001b[39m.\u001b[39;00m\u001b[39mai21\u001b[39;00m \u001b[39mimport\u001b[39;00m AI21\n\u001b[1;32m     23\u001b[0m \u001b[39mfrom\u001b[39;00m \u001b[39mlangchain\u001b[39;00m\u001b[39m.\u001b[39;00m\u001b[39mllms\u001b[39;00m\u001b[39m.\u001b[39;00m\u001b[39maleph_alpha\u001b[39;00m \u001b[39mimport\u001b[39;00m AlephAlpha\n\u001b[1;32m     24\u001b[0m \u001b[39mfrom\u001b[39;00m \u001b[39mlangchain\u001b[39;00m\u001b[39m.\u001b[39;00m\u001b[39mllms\u001b[39;00m\u001b[39m.\u001b[39;00m\u001b[39mamazon_api_gateway\u001b[39;00m \u001b[39mimport\u001b[39;00m AmazonAPIGateway\n",
      "File \u001b[0;32m~/Source/github/docugami.langchain/libs/langchain/langchain/llms/ai21.py:5\u001b[0m\n\u001b[1;32m      1\u001b[0m \u001b[39mfrom\u001b[39;00m \u001b[39mtyping\u001b[39;00m \u001b[39mimport\u001b[39;00m Any, Dict, List, Optional\n\u001b[1;32m      3\u001b[0m \u001b[39mimport\u001b[39;00m \u001b[39mrequests\u001b[39;00m\n\u001b[0;32m----> 5\u001b[0m \u001b[39mfrom\u001b[39;00m \u001b[39mlangchain\u001b[39;00m\u001b[39m.\u001b[39;00m\u001b[39mcallbacks\u001b[39;00m\u001b[39m.\u001b[39;00m\u001b[39mmanager\u001b[39;00m \u001b[39mimport\u001b[39;00m CallbackManagerForLLMRun\n\u001b[1;32m      6\u001b[0m \u001b[39mfrom\u001b[39;00m \u001b[39mlangchain\u001b[39;00m\u001b[39m.\u001b[39;00m\u001b[39mllms\u001b[39;00m\u001b[39m.\u001b[39;00m\u001b[39mbase\u001b[39;00m \u001b[39mimport\u001b[39;00m LLM\n\u001b[1;32m      7\u001b[0m \u001b[39mfrom\u001b[39;00m \u001b[39mlangchain\u001b[39;00m\u001b[39m.\u001b[39;00m\u001b[39mpydantic_v1\u001b[39;00m \u001b[39mimport\u001b[39;00m BaseModel, Extra, root_validator\n",
      "File \u001b[0;32m~/Source/github/docugami.langchain/libs/langchain/langchain/callbacks/__init__.py:10\u001b[0m\n\u001b[1;32m      1\u001b[0m \u001b[39m\"\"\"**Callback handlers** allow listening to events in LangChain.\u001b[39;00m\n\u001b[1;32m      2\u001b[0m \n\u001b[1;32m      3\u001b[0m \u001b[39m**Class hierarchy:**\u001b[39;00m\n\u001b[0;32m   (...)\u001b[0m\n\u001b[1;32m      7\u001b[0m \u001b[39m    BaseCallbackHandler --> <name>CallbackHandler  # Example: AimCallbackHandler\u001b[39;00m\n\u001b[1;32m      8\u001b[0m \u001b[39m\"\"\"\u001b[39;00m\n\u001b[0;32m---> 10\u001b[0m \u001b[39mfrom\u001b[39;00m \u001b[39mlangchain\u001b[39;00m\u001b[39m.\u001b[39;00m\u001b[39mcallbacks\u001b[39;00m\u001b[39m.\u001b[39;00m\u001b[39maim_callback\u001b[39;00m \u001b[39mimport\u001b[39;00m AimCallbackHandler\n\u001b[1;32m     11\u001b[0m \u001b[39mfrom\u001b[39;00m \u001b[39mlangchain\u001b[39;00m\u001b[39m.\u001b[39;00m\u001b[39mcallbacks\u001b[39;00m\u001b[39m.\u001b[39;00m\u001b[39margilla_callback\u001b[39;00m \u001b[39mimport\u001b[39;00m ArgillaCallbackHandler\n\u001b[1;32m     12\u001b[0m \u001b[39mfrom\u001b[39;00m \u001b[39mlangchain\u001b[39;00m\u001b[39m.\u001b[39;00m\u001b[39mcallbacks\u001b[39;00m\u001b[39m.\u001b[39;00m\u001b[39marize_callback\u001b[39;00m \u001b[39mimport\u001b[39;00m ArizeCallbackHandler\n",
      "File \u001b[0;32m~/Source/github/docugami.langchain/libs/langchain/langchain/callbacks/aim_callback.py:5\u001b[0m\n\u001b[1;32m      2\u001b[0m \u001b[39mfrom\u001b[39;00m \u001b[39mtyping\u001b[39;00m \u001b[39mimport\u001b[39;00m Any, Dict, List, Optional\n\u001b[1;32m      4\u001b[0m \u001b[39mfrom\u001b[39;00m \u001b[39mlangchain\u001b[39;00m\u001b[39m.\u001b[39;00m\u001b[39mcallbacks\u001b[39;00m\u001b[39m.\u001b[39;00m\u001b[39mbase\u001b[39;00m \u001b[39mimport\u001b[39;00m BaseCallbackHandler\n\u001b[0;32m----> 5\u001b[0m \u001b[39mfrom\u001b[39;00m \u001b[39mlangchain\u001b[39;00m\u001b[39m.\u001b[39;00m\u001b[39mschema\u001b[39;00m \u001b[39mimport\u001b[39;00m AgentAction, AgentFinish, LLMResult\n\u001b[1;32m      8\u001b[0m \u001b[39mdef\u001b[39;00m \u001b[39mimport_aim\u001b[39m() \u001b[39m-\u001b[39m\u001b[39m>\u001b[39m Any:\n\u001b[1;32m      9\u001b[0m \u001b[39m    \u001b[39m\u001b[39m\"\"\"Import the aim python package and raise an error if it is not installed.\"\"\"\u001b[39;00m\n",
      "File \u001b[0;32m~/Source/github/docugami.langchain/libs/langchain/langchain/schema/__init__.py:2\u001b[0m\n\u001b[1;32m      1\u001b[0m \u001b[39m\"\"\"**Schemas** are the LangChain Base Classes and Interfaces.\"\"\"\u001b[39;00m\n\u001b[0;32m----> 2\u001b[0m \u001b[39mfrom\u001b[39;00m \u001b[39mlangchain\u001b[39;00m\u001b[39m.\u001b[39;00m\u001b[39mschema\u001b[39;00m\u001b[39m.\u001b[39;00m\u001b[39magent\u001b[39;00m \u001b[39mimport\u001b[39;00m AgentAction, AgentFinish\n\u001b[1;32m      3\u001b[0m \u001b[39mfrom\u001b[39;00m \u001b[39mlangchain\u001b[39;00m\u001b[39m.\u001b[39;00m\u001b[39mschema\u001b[39;00m\u001b[39m.\u001b[39;00m\u001b[39mcache\u001b[39;00m \u001b[39mimport\u001b[39;00m BaseCache\n\u001b[1;32m      4\u001b[0m \u001b[39mfrom\u001b[39;00m \u001b[39mlangchain\u001b[39;00m\u001b[39m.\u001b[39;00m\u001b[39mschema\u001b[39;00m\u001b[39m.\u001b[39;00m\u001b[39mchat_history\u001b[39;00m \u001b[39mimport\u001b[39;00m BaseChatMessageHistory\n",
      "File \u001b[0;32m~/Source/github/docugami.langchain/libs/langchain/langchain/schema/agent.py:5\u001b[0m\n\u001b[1;32m      1\u001b[0m \u001b[39mfrom\u001b[39;00m \u001b[39m__future__\u001b[39;00m \u001b[39mimport\u001b[39;00m annotations\n\u001b[1;32m      3\u001b[0m \u001b[39mfrom\u001b[39;00m \u001b[39mtyping\u001b[39;00m \u001b[39mimport\u001b[39;00m Any, Sequence, Union\n\u001b[0;32m----> 5\u001b[0m \u001b[39mfrom\u001b[39;00m \u001b[39mlangchain\u001b[39;00m\u001b[39m.\u001b[39;00m\u001b[39mload\u001b[39;00m\u001b[39m.\u001b[39;00m\u001b[39mserializable\u001b[39;00m \u001b[39mimport\u001b[39;00m Serializable\n\u001b[1;32m      6\u001b[0m \u001b[39mfrom\u001b[39;00m \u001b[39mlangchain\u001b[39;00m\u001b[39m.\u001b[39;00m\u001b[39mschema\u001b[39;00m\u001b[39m.\u001b[39;00m\u001b[39mmessages\u001b[39;00m \u001b[39mimport\u001b[39;00m BaseMessage\n\u001b[1;32m      9\u001b[0m \u001b[39mclass\u001b[39;00m \u001b[39mAgentAction\u001b[39;00m(Serializable):\n",
      "File \u001b[0;32m~/Source/github/docugami.langchain/libs/langchain/langchain/load/__init__.py:2\u001b[0m\n\u001b[1;32m      1\u001b[0m \u001b[39m\"\"\"Serialization and deserialization.\"\"\"\u001b[39;00m\n\u001b[0;32m----> 2\u001b[0m \u001b[39mfrom\u001b[39;00m \u001b[39mlangchain\u001b[39;00m\u001b[39m.\u001b[39;00m\u001b[39mload\u001b[39;00m\u001b[39m.\u001b[39;00m\u001b[39mdump\u001b[39;00m \u001b[39mimport\u001b[39;00m dumpd, dumps\n\u001b[1;32m      3\u001b[0m \u001b[39mfrom\u001b[39;00m \u001b[39mlangchain\u001b[39;00m\u001b[39m.\u001b[39;00m\u001b[39mload\u001b[39;00m\u001b[39m.\u001b[39;00m\u001b[39mload\u001b[39;00m \u001b[39mimport\u001b[39;00m load, loads\n\u001b[1;32m      5\u001b[0m __all__ \u001b[39m=\u001b[39m [\n\u001b[1;32m      6\u001b[0m     \u001b[39m\"\u001b[39m\u001b[39mdumpd\u001b[39m\u001b[39m\"\u001b[39m,\n\u001b[1;32m      7\u001b[0m     \u001b[39m\"\u001b[39m\u001b[39mdumps\u001b[39m\u001b[39m\"\u001b[39m,\n\u001b[1;32m      8\u001b[0m     \u001b[39m\"\u001b[39m\u001b[39mload\u001b[39m\u001b[39m\"\u001b[39m,\n\u001b[1;32m      9\u001b[0m     \u001b[39m\"\u001b[39m\u001b[39mloads\u001b[39m\u001b[39m\"\u001b[39m,\n\u001b[1;32m     10\u001b[0m ]\n",
      "File \u001b[0;32m~/Source/github/docugami.langchain/libs/langchain/langchain/load/dump.py:4\u001b[0m\n\u001b[1;32m      1\u001b[0m \u001b[39mimport\u001b[39;00m \u001b[39mjson\u001b[39;00m\n\u001b[1;32m      2\u001b[0m \u001b[39mfrom\u001b[39;00m \u001b[39mtyping\u001b[39;00m \u001b[39mimport\u001b[39;00m Any, Dict\n\u001b[0;32m----> 4\u001b[0m \u001b[39mfrom\u001b[39;00m \u001b[39mlangchain\u001b[39;00m\u001b[39m.\u001b[39;00m\u001b[39mload\u001b[39;00m\u001b[39m.\u001b[39;00m\u001b[39mserializable\u001b[39;00m \u001b[39mimport\u001b[39;00m Serializable, to_json_not_implemented\n\u001b[1;32m      7\u001b[0m \u001b[39mdef\u001b[39;00m \u001b[39mdefault\u001b[39m(obj: Any) \u001b[39m-\u001b[39m\u001b[39m>\u001b[39m Any:\n\u001b[1;32m      8\u001b[0m \u001b[39m    \u001b[39m\u001b[39m\"\"\"Return a default value for a Serializable object or\u001b[39;00m\n\u001b[1;32m      9\u001b[0m \u001b[39m    a SerializedNotImplemented object.\"\"\"\u001b[39;00m\n",
      "File \u001b[0;32m~/Source/github/docugami.langchain/libs/langchain/langchain/load/serializable.py:4\u001b[0m\n\u001b[1;32m      1\u001b[0m \u001b[39mfrom\u001b[39;00m \u001b[39mabc\u001b[39;00m \u001b[39mimport\u001b[39;00m ABC\n\u001b[1;32m      2\u001b[0m \u001b[39mfrom\u001b[39;00m \u001b[39mtyping\u001b[39;00m \u001b[39mimport\u001b[39;00m Any, Dict, List, Literal, Optional, TypedDict, Union, cast\n\u001b[0;32m----> 4\u001b[0m \u001b[39mfrom\u001b[39;00m \u001b[39mlangchain\u001b[39;00m\u001b[39m.\u001b[39;00m\u001b[39mpydantic_v1\u001b[39;00m \u001b[39mimport\u001b[39;00m BaseModel, PrivateAttr\n\u001b[1;32m      7\u001b[0m \u001b[39mclass\u001b[39;00m \u001b[39mBaseSerialized\u001b[39;00m(TypedDict):\n\u001b[1;32m      8\u001b[0m \u001b[39m    \u001b[39m\u001b[39m\"\"\"Base class for serialized objects.\"\"\"\u001b[39;00m\n",
      "File \u001b[0;32m~/Source/github/docugami.langchain/libs/langchain/langchain/pydantic_v1/__init__.py:17\u001b[0m\n\u001b[1;32m     15\u001b[0m     \u001b[39mfrom\u001b[39;00m \u001b[39mpydantic\u001b[39;00m\u001b[39m.\u001b[39;00m\u001b[39mv1\u001b[39;00m \u001b[39mimport\u001b[39;00m \u001b[39m*\u001b[39m  \u001b[39m# noqa: F403\u001b[39;00m\n\u001b[1;32m     16\u001b[0m \u001b[39mexcept\u001b[39;00m \u001b[39mImportError\u001b[39;00m:\n\u001b[0;32m---> 17\u001b[0m     \u001b[39mfrom\u001b[39;00m \u001b[39mpydantic\u001b[39;00m \u001b[39mimport\u001b[39;00m \u001b[39m*\u001b[39m  \u001b[39m# noqa: F403\u001b[39;00m\n\u001b[1;32m     20\u001b[0m \u001b[39mtry\u001b[39;00m:\n\u001b[1;32m     21\u001b[0m     _PYDANTIC_MAJOR_VERSION: \u001b[39mint\u001b[39m \u001b[39m=\u001b[39m \u001b[39mint\u001b[39m(metadata\u001b[39m.\u001b[39mversion(\u001b[39m\"\u001b[39m\u001b[39mpydantic\u001b[39m\u001b[39m\"\u001b[39m)\u001b[39m.\u001b[39msplit(\u001b[39m\"\u001b[39m\u001b[39m.\u001b[39m\u001b[39m\"\u001b[39m)[\u001b[39m0\u001b[39m])\n",
      "File \u001b[0;32m~/Source/github/docugami.langchain/libs/langchain/.venv/lib/python3.9/site-packages/pydantic/__init__.py:12\u001b[0m\n\u001b[1;32m      3\u001b[0m \u001b[39mimport\u001b[39;00m \u001b[39mpydantic_core\u001b[39;00m\n\u001b[1;32m      4\u001b[0m \u001b[39mfrom\u001b[39;00m \u001b[39mpydantic_core\u001b[39;00m\u001b[39m.\u001b[39;00m\u001b[39mcore_schema\u001b[39;00m \u001b[39mimport\u001b[39;00m (\n\u001b[1;32m      5\u001b[0m     FieldSerializationInfo,\n\u001b[1;32m      6\u001b[0m     SerializationInfo,\n\u001b[0;32m   (...)\u001b[0m\n\u001b[1;32m      9\u001b[0m     ValidatorFunctionWrapHandler,\n\u001b[1;32m     10\u001b[0m )\n\u001b[0;32m---> 12\u001b[0m \u001b[39mfrom\u001b[39;00m \u001b[39m.\u001b[39;00m \u001b[39mimport\u001b[39;00m dataclasses\n\u001b[1;32m     13\u001b[0m \u001b[39mfrom\u001b[39;00m \u001b[39m.\u001b[39;00m\u001b[39m_internal\u001b[39;00m\u001b[39m.\u001b[39;00m\u001b[39m_generate_schema\u001b[39;00m \u001b[39mimport\u001b[39;00m GenerateSchema \u001b[39mas\u001b[39;00m GenerateSchema\n\u001b[1;32m     14\u001b[0m \u001b[39mfrom\u001b[39;00m \u001b[39m.\u001b[39;00m\u001b[39m_migration\u001b[39;00m \u001b[39mimport\u001b[39;00m getattr_migration\n",
      "File \u001b[0;32m~/Source/github/docugami.langchain/libs/langchain/.venv/lib/python3.9/site-packages/pydantic/dataclasses.py:11\u001b[0m\n\u001b[1;32m      7\u001b[0m \u001b[39mfrom\u001b[39;00m \u001b[39mtyping\u001b[39;00m \u001b[39mimport\u001b[39;00m TYPE_CHECKING, Any, Callable, Generic, NoReturn, TypeVar, overload\n\u001b[1;32m      9\u001b[0m \u001b[39mfrom\u001b[39;00m \u001b[39mtyping_extensions\u001b[39;00m \u001b[39mimport\u001b[39;00m Literal, TypeGuard, dataclass_transform\n\u001b[0;32m---> 11\u001b[0m \u001b[39mfrom\u001b[39;00m \u001b[39m.\u001b[39;00m\u001b[39m_internal\u001b[39;00m \u001b[39mimport\u001b[39;00m _config, _decorators, _typing_extra\n\u001b[1;32m     12\u001b[0m \u001b[39mfrom\u001b[39;00m \u001b[39m.\u001b[39;00m\u001b[39m_internal\u001b[39;00m \u001b[39mimport\u001b[39;00m _dataclasses \u001b[39mas\u001b[39;00m _pydantic_dataclasses\n\u001b[1;32m     13\u001b[0m \u001b[39mfrom\u001b[39;00m \u001b[39m.\u001b[39;00m\u001b[39m_migration\u001b[39;00m \u001b[39mimport\u001b[39;00m getattr_migration\n",
      "File \u001b[0;32m~/Source/github/docugami.langchain/libs/langchain/.venv/lib/python3.9/site-packages/pydantic/_internal/_decorators.py:15\u001b[0m\n\u001b[1;32m     12\u001b[0m \u001b[39mfrom\u001b[39;00m \u001b[39mtyping_extensions\u001b[39;00m \u001b[39mimport\u001b[39;00m Literal, TypeAlias, is_typeddict\n\u001b[1;32m     14\u001b[0m \u001b[39mfrom\u001b[39;00m \u001b[39m.\u001b[39;00m\u001b[39m.\u001b[39;00m\u001b[39merrors\u001b[39;00m \u001b[39mimport\u001b[39;00m PydanticUserError\n\u001b[0;32m---> 15\u001b[0m \u001b[39mfrom\u001b[39;00m \u001b[39m.\u001b[39;00m\u001b[39m.\u001b[39;00m\u001b[39mfields\u001b[39;00m \u001b[39mimport\u001b[39;00m ComputedFieldInfo\n\u001b[1;32m     16\u001b[0m \u001b[39mfrom\u001b[39;00m \u001b[39m.\u001b[39;00m\u001b[39m_core_utils\u001b[39;00m \u001b[39mimport\u001b[39;00m get_type_ref\n\u001b[1;32m     17\u001b[0m \u001b[39mfrom\u001b[39;00m \u001b[39m.\u001b[39;00m\u001b[39m_internal_dataclass\u001b[39;00m \u001b[39mimport\u001b[39;00m slots_true\n",
      "File \u001b[0;32m~/Source/github/docugami.langchain/libs/langchain/.venv/lib/python3.9/site-packages/pydantic/fields.py:24\u001b[0m\n\u001b[1;32m     21\u001b[0m \u001b[39mfrom\u001b[39;00m \u001b[39mpydantic_core\u001b[39;00m \u001b[39mimport\u001b[39;00m PydanticUndefined\n\u001b[1;32m     22\u001b[0m \u001b[39mfrom\u001b[39;00m \u001b[39mtyping_extensions\u001b[39;00m \u001b[39mimport\u001b[39;00m Literal, Unpack\n\u001b[0;32m---> 24\u001b[0m \u001b[39mfrom\u001b[39;00m \u001b[39m.\u001b[39;00m \u001b[39mimport\u001b[39;00m types\n\u001b[1;32m     25\u001b[0m \u001b[39mfrom\u001b[39;00m \u001b[39m.\u001b[39;00m\u001b[39m_internal\u001b[39;00m \u001b[39mimport\u001b[39;00m _decorators, _fields, _generics, _internal_dataclass, _repr, _typing_extra, _utils\n\u001b[1;32m     26\u001b[0m \u001b[39mfrom\u001b[39;00m \u001b[39m.\u001b[39;00m\u001b[39merrors\u001b[39;00m \u001b[39mimport\u001b[39;00m PydanticUserError\n",
      "File \u001b[0;32m~/Source/github/docugami.langchain/libs/langchain/.venv/lib/python3.9/site-packages/pydantic/types.py:33\u001b[0m\n\u001b[1;32m     30\u001b[0m \u001b[39mfrom\u001b[39;00m \u001b[39mpydantic_core\u001b[39;00m \u001b[39mimport\u001b[39;00m CoreSchema, PydanticCustomError, core_schema\n\u001b[1;32m     31\u001b[0m \u001b[39mfrom\u001b[39;00m \u001b[39mtyping_extensions\u001b[39;00m \u001b[39mimport\u001b[39;00m Annotated, Literal, Protocol, deprecated\n\u001b[0;32m---> 33\u001b[0m \u001b[39mfrom\u001b[39;00m \u001b[39m.\u001b[39;00m\u001b[39m_internal\u001b[39;00m \u001b[39mimport\u001b[39;00m _fields, _internal_dataclass, _utils, _validators\n\u001b[1;32m     34\u001b[0m \u001b[39mfrom\u001b[39;00m \u001b[39m.\u001b[39;00m\u001b[39m_migration\u001b[39;00m \u001b[39mimport\u001b[39;00m getattr_migration\n\u001b[1;32m     35\u001b[0m \u001b[39mfrom\u001b[39;00m \u001b[39m.\u001b[39;00m\u001b[39mannotated_handlers\u001b[39;00m \u001b[39mimport\u001b[39;00m GetCoreSchemaHandler, GetJsonSchemaHandler\n",
      "File \u001b[0;32m~/Source/github/docugami.langchain/libs/langchain/.venv/lib/python3.9/site-packages/pydantic/_internal/_fields.py:13\u001b[0m\n\u001b[1;32m     10\u001b[0m \u001b[39mfrom\u001b[39;00m \u001b[39mannotated_types\u001b[39;00m \u001b[39mimport\u001b[39;00m BaseMetadata\n\u001b[1;32m     11\u001b[0m \u001b[39mfrom\u001b[39;00m \u001b[39mpydantic_core\u001b[39;00m \u001b[39mimport\u001b[39;00m PydanticUndefined\n\u001b[0;32m---> 13\u001b[0m \u001b[39mfrom\u001b[39;00m \u001b[39m.\u001b[39;00m \u001b[39mimport\u001b[39;00m _typing_extra\n\u001b[1;32m     14\u001b[0m \u001b[39mfrom\u001b[39;00m \u001b[39m.\u001b[39;00m\u001b[39m_config\u001b[39;00m \u001b[39mimport\u001b[39;00m ConfigWrapper\n\u001b[1;32m     15\u001b[0m \u001b[39mfrom\u001b[39;00m \u001b[39m.\u001b[39;00m\u001b[39m_repr\u001b[39;00m \u001b[39mimport\u001b[39;00m Representation\n",
      "File \u001b[0;32m~/Source/github/docugami.langchain/libs/langchain/.venv/lib/python3.9/site-packages/pydantic/_internal/_typing_extra.py:13\u001b[0m\n\u001b[1;32m     10\u001b[0m \u001b[39mfrom\u001b[39;00m \u001b[39mtypes\u001b[39;00m \u001b[39mimport\u001b[39;00m GetSetDescriptorType\n\u001b[1;32m     11\u001b[0m \u001b[39mfrom\u001b[39;00m \u001b[39mtyping\u001b[39;00m \u001b[39mimport\u001b[39;00m TYPE_CHECKING, Any, ForwardRef\n\u001b[0;32m---> 13\u001b[0m \u001b[39mfrom\u001b[39;00m \u001b[39mtyping_extensions\u001b[39;00m \u001b[39mimport\u001b[39;00m Annotated, Final, Literal, TypeAliasType, TypeGuard, get_args, get_origin\n\u001b[1;32m     15\u001b[0m \u001b[39mif\u001b[39;00m TYPE_CHECKING:\n\u001b[1;32m     16\u001b[0m     \u001b[39mfrom\u001b[39;00m \u001b[39m.\u001b[39;00m\u001b[39m_dataclasses\u001b[39;00m \u001b[39mimport\u001b[39;00m StandardDataclass\n",
      "\u001b[0;31mImportError\u001b[0m: cannot import name 'TypeAliasType' from 'typing_extensions' (/Users/tjaffri/Source/github/docugami.langchain/libs/langchain/.venv/lib/python3.9/site-packages/typing_extensions.py)"
     ]
    }
   ],
   "source": [
    "from langchain.llms.octoai_endpoint import OctoAIEndpoint\n",
    "\n",
    "# Initialize the model specified above with the ENDPOINT_URL env var.\n",
    "# Alternatively, you can set endpoint_url in the OctoAIEndpoint constructor.\n",
    "llm = OctoAIEndpoint(\n",
    "    model_kwargs={\n",
    "        \"max_new_tokens\": 200,\n",
    "        \"temperature\": 0.75,\n",
    "        \"top_p\": 0.95,\n",
    "        \"repetition_penalty\": 1,\n",
    "        \"seed\": None,\n",
    "        \"stop\": [],\n",
    "    },\n",
    ")"
   ]
  },
  {
   "cell_type": "markdown",
   "metadata": {},
   "source": [
    "## Example"
   ]
  },
  {
   "cell_type": "code",
   "execution_count": null,
   "metadata": {},
   "outputs": [],
   "source": [
    "template = \"\"\"Below is an instruction that describes a task. Write a response that appropriately completes the request.\\n Instruction:\\n{question}\\n Response: \"\"\"\n",
    "prompt = PromptTemplate(template=template, input_variables=[\"question\"])"
   ]
  },
  {
   "cell_type": "code",
   "execution_count": null,
   "metadata": {},
   "outputs": [],
   "source": []
  },
  {
   "cell_type": "code",
   "execution_count": null,
   "metadata": {},
   "outputs": [],
   "source": [
    "question = \"Who was leonardo davinci?\"\n",
    "\n",
    "llm_chain = LLMChain(prompt=prompt, llm=llm)\n",
    "\n",
    "llm_chain.run(question)"
   ]
  }
 ],
 "metadata": {
  "kernelspec": {
   "display_name": "Python 3 (ipykernel)",
   "language": "python",
   "name": "python3"
  },
  "language_info": {
   "codemirror_mode": {
    "name": "ipython",
    "version": 3
   },
   "file_extension": ".py",
   "mimetype": "text/x-python",
   "name": "python",
   "nbconvert_exporter": "python",
   "pygments_lexer": "ipython3",
   "version": "3.9.16"
  },
  "vscode": {
   "interpreter": {
    "hash": "97697b63fdcee0a640856f91cb41326ad601964008c341809e43189d1cab1047"
   }
  }
 },
 "nbformat": 4,
 "nbformat_minor": 4
}
