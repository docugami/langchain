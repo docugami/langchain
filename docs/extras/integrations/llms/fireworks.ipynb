{
 "cells": [
  {
   "cell_type": "code",
   "execution_count": 1,
   "id": "f0ff8ce0",
   "metadata": {},
   "outputs": [],
   "source": [
    "# magics to auto-reload external modules in case you are making changes to langchain while working on this notebook\n",
    "%load_ext autoreload\n",
    "%autoreload 2"
   ]
  },
  {
   "cell_type": "markdown",
   "id": "cc6caafa",
   "metadata": {},
   "source": [
    "# Fireworks\n",
    "\n",
    ">[Fireworks](https://app.fireworks.ai/) accelerates product development on generative AI by creating an innovative AI experiment and production platform. \n",
    "\n",
    "This example goes over how to use LangChain to interact with `Fireworks` models."
   ]
  },
  {
   "cell_type": "markdown",
   "id": "ccff689e",
   "metadata": {},
   "source": [
    "# Setup\n",
    "\n",
    "1. Make sure the `fireworks-ai` package is installed in your environment.\n",
    "2. Sign in to [Fireworks AI](http://fireworks.ai) for the an API Key to access our models, and make sure it is set as the `FIREWORKS_API_KEY` environment variable.\n",
    "3. Set up your model using a model id. If the model is not set, the default model is fireworks-llama-v2-7b-chat. See the full, most up-to-date model list on [app.fireworks.ai](https://app.fireworks.ai)."
   ]
  },
  {
   "cell_type": "code",
   "execution_count": 13,
   "id": "bf929d19",
   "metadata": {},
   "outputs": [
    {
     "name": "stdout",
     "output_type": "stream",
     "text": [
      "Requirement already satisfied: fireworks-ai in /workspace/docugami.langchain/.venv/lib/python3.9/site-packages (0.4.1)\n",
      "Requirement already satisfied: httpx in /workspace/docugami.langchain/.venv/lib/python3.9/site-packages (from fireworks-ai) (0.25.0)\n",
      "Requirement already satisfied: httpx-sse in /workspace/docugami.langchain/.venv/lib/python3.9/site-packages (from fireworks-ai) (0.3.1)\n",
      "Requirement already satisfied: pydantic in /workspace/docugami.langchain/.venv/lib/python3.9/site-packages (from fireworks-ai) (2.4.2)\n",
      "Requirement already satisfied: certifi in /workspace/docugami.langchain/.venv/lib/python3.9/site-packages (from httpx->fireworks-ai) (2023.7.22)\n",
      "Requirement already satisfied: httpcore<0.19.0,>=0.18.0 in /workspace/docugami.langchain/.venv/lib/python3.9/site-packages (from httpx->fireworks-ai) (0.18.0)\n",
      "Requirement already satisfied: idna in /workspace/docugami.langchain/.venv/lib/python3.9/site-packages (from httpx->fireworks-ai) (3.4)\n",
      "Requirement already satisfied: sniffio in /workspace/docugami.langchain/.venv/lib/python3.9/site-packages (from httpx->fireworks-ai) (1.3.0)\n",
      "Requirement already satisfied: annotated-types>=0.4.0 in /workspace/docugami.langchain/.venv/lib/python3.9/site-packages (from pydantic->fireworks-ai) (0.5.0)\n",
      "Requirement already satisfied: pydantic-core==2.10.1 in /workspace/docugami.langchain/.venv/lib/python3.9/site-packages (from pydantic->fireworks-ai) (2.10.1)\n",
      "Requirement already satisfied: typing-extensions>=4.6.1 in /workspace/docugami.langchain/.venv/lib/python3.9/site-packages (from pydantic->fireworks-ai) (4.8.0)\n",
      "Requirement already satisfied: anyio<5.0,>=3.0 in /workspace/docugami.langchain/.venv/lib/python3.9/site-packages (from httpcore<0.19.0,>=0.18.0->httpx->fireworks-ai) (4.0.0)\n",
      "Requirement already satisfied: h11<0.15,>=0.13 in /workspace/docugami.langchain/.venv/lib/python3.9/site-packages (from httpcore<0.19.0,>=0.18.0->httpx->fireworks-ai) (0.14.0)\n",
      "Requirement already satisfied: exceptiongroup>=1.0.2 in /workspace/docugami.langchain/.venv/lib/python3.9/site-packages (from anyio<5.0,>=3.0->httpcore<0.19.0,>=0.18.0->httpx->fireworks-ai) (1.1.3)\n"
     ]
    }
   ],
   "source": [
    "!poetry run pip install fireworks-ai"
   ]
  },
  {
   "cell_type": "markdown",
   "id": "3028e9d6",
   "metadata": {},
   "source": []
  },
  {
   "cell_type": "code",
   "execution_count": 1,
   "id": "9ca87a2e",
   "metadata": {},
   "outputs": [],
   "source": [
    "import os\n",
    "import getpass\n",
    "from langchain.llms import Fireworks\n",
    "\n",
    "if \"FIREWORKS_API_KEY\" not in os.environ:\n",
    "    os.environ[\"FIREWORKS_API_KEY\"] = getpass.getpass(\"Fireworks API Key:\")\n",
    "\n",
    "# Initialize a Fireworks model\n",
    "llm = Fireworks(model=\"accounts/fireworks/models/llama-v2-13b\")"
   ]
  },
  {
   "cell_type": "markdown",
   "id": "acc24d0c",
   "metadata": {},
   "source": [
    "# Calling the Model Directly\n",
    "\n",
    "You can call the model directly with string prompts to get completions."
   ]
  },
  {
   "cell_type": "code",
   "execution_count": 2,
   "id": "bf0a425c",
   "metadata": {},
   "outputs": [
    {
     "name": "stdout",
     "output_type": "stream",
     "text": [
      "\n",
      "Joe Montana? Bart Starr? Dan Marino? Steve Young? John Elway?\n",
      "Troy Aikman? Peyton Manning? Tom Brady?\n",
      "In the 1950s and '60s, it was an easy decision for most football fans: Johnny Unitas.\n",
      "Unitas was the Baltimore Colts' quarterback, and he was a model of consistency and reliability. At 6-feet-2 and 200 pounds, he was big and strong, and he threw the ball with accuracy and power. He had a cannon for an arm. In his first year in the NFL, Unitas led the Colts to the championship game, and in four of his first five years in the league, he was selected to the Pro Bowl.\n",
      "NFL Commissioner Pete Rozelle called Unitas the greatest passer of his time, and in 1970, he was the first player to be named to the NFL's 50th Anniversary All-Time Team.\n",
      "But of course, the great Unitas was no longer playing in 1970. He was 36 years old, and by then, he had been in a series of bad car accidents. He was still able to play, but his arm was in bad shape. His passes were no longer accurate, and his throws were no longer powerful.\n",
      "By the mid-1960s, Unitas was no longer the best quarterback in the NFL. The best quarterback in the NFL was Bart Starr.\n",
      "The Green Bay Packers' Starr was a model of consistency and reliability, too. He was a little shorter than Unitas (6-feet-1), and a little smaller (190 pounds), but he was tough and durable, and he threw the ball with accuracy and power. He was the first player to win three straight NFL championships, and in 1966, he was the first quarterback to win the Super Bowl.\n",
      "In 1970, Unitas was no longer the best quarterback in the NFL. The best quarterback in the NFL was Bart Starr.\n",
      "But of course, Starr was no longer playing in 1970, either. He was 42 years old, and he had been in a series of bad car accidents, too. He was still able\n"
     ]
    }
   ],
   "source": [
    "# Single prompt\n",
    "output = llm(\"Who's the best quarterback in the NFL?\")\n",
    "print(output)"
   ]
  },
  {
   "cell_type": "code",
   "execution_count": 3,
   "id": "afc7de6f",
   "metadata": {},
   "outputs": [
    {
     "name": "stdout",
     "output_type": "stream",
     "text": [
      "[Generation(text='\\nGraeme Smith of South Africa is the best cricket player in 2016. Smith is the former captain of the South African national cricket team. He is also a right-handed batsman and a right-arm medium-fast bowler.\\nWho are the best players in the world of cricket?\\nWho are some famous cricket players?\\nWho are the best 10 cricket players in the world?\\nIn 2003, Smith became the captain of the South African cricket team. He did this after Shaun Pollock retired. Smith played for South Africa for 14 years and is the third-highest test run scorer for South Africa, with over 9,000 runs. He has scored 27 centuries in test matches.\\nSmith also played in 117 one-day internationals for South Africa. He scored 6,989 runs in this format, with 10 centuries. He retired from all forms of cricket in 2014.\\ngraemesmith.co.za\\nWho are the top 10 cricket players in the world?\\nA: The top 10 cricket players in the world in 2015 are Virat Kohli, Michael Clarke, Joe Root, Hashim Amla, AB de Villiers, Alastair Cook, Steve Smith, Kane Will... Full Answer >\\nWho are the top 10 best cricket players in the world?\\nA: The top 10 best cricket players in the world as of 2015 are Virat Kohli, Michael Clarke, Joe Root, Hashim Amla, AB de Villiers, Alastair Cook, Steve Smith, ... Full Answer >\\nWho are the top 10 cricket players?\\nA: As of August 2015, the top 10 cricket players in the world, according to Cricket World, are Virat Kohli, Michael Clarke, Joe Root, Hashim Amla, AB de Vili... Full Answer >\\nA: The 10 best cricket players in the world are Virat Kohli, Michael Clarke, Joe Root, Hashim Amla, AB de Villiers, Alastair Cook, Steve Smith, Kane Williamson... Full Answer >\\nWho is the best player on the Cowboys football team')]\n",
      "[Generation(text='\\nIf you ask the average basketball fan, there\\'s a good chance they will say LeBron James. To be honest, most people would say Michael Jordan or Kobe Bryant. And if you ask the most dedicated NBA fan, they would say Kobe Bryant is the best player in the league.\\nThere are so many factors that go into determining who the best player in the NBA is. I would say it\\'s a combination of talent, skill, and how a player performs in the big moments.\\nThe biggest debate in the NBA is the argument between LeBron James and Kobe Bryant. It\\'s basically a debate between \"Most Talented Player\" and \"Best Player\".\\nTo me, Kobe Bryant is the best player in the league. He\\'s a top-tier talent and he has a proven track record of winning. He\\'s also the best scorer in the NBA and he can beat you in a variety of ways.\\nHowever, LeBron James is a close second. He has the most talent in the league, and he\\'s also a top-tier basketball player.\\nThe best basketball player in the NBA is LeBron James.\\nHe\\'s the best player in the league because he\\'s the best all-around player. He\\'s the best scorer, the best defender, and the best leader.\\nHe\\'s the best scorer in the NBA because he\\'s the most versatile player. He can score in a variety of ways, including posting up, shooting from the perimeter, and attacking the basket. He\\'s also the best defender in the league because he\\'s the most versatile player. He can guard any position on the court.\\nHe\\'s the best leader in the NBA because he\\'s the most versatile player. He can lead by example, he can lead by directing traffic, and he can lead by getting teammates involved.\\nHe\\'s the best player in the NBA because he\\'s the best all-around player. He\\'s the best scorer, the best defender, and the best leader.\\nThe best basketball player in the NBA is LeBron James. He\\'s the best player in the league because he\\'s the best all-around player. He\\'s the best scorer, the best defender, and the best leader.\\nIs it true that LeBron James')]\n"
     ]
    }
   ],
   "source": [
    "# Calling model with multiple prompts\n",
    "output = llm.generate([\n",
    "    \"Who's the best cricket player in 2016?\",\n",
    "    \"Who's the best basketball player in the league?\",\n",
    "])\n",
    "\n",
    "for g in output.generations:\n",
    "    print(g)"
   ]
  },
  {
   "cell_type": "code",
   "execution_count": 5,
   "id": "b801c20d",
   "metadata": {},
   "outputs": [
    {
     "name": "stdout",
     "output_type": "stream",
     "text": [
      "\n",
      "What's the weather like in Kansas City in December? \n"
     ]
    }
   ],
   "source": [
    "# Setting additional parameters: temperature, max_tokens, top_p\n",
    "llm = Fireworks(model=\"accounts/fireworks/models/llama-v2-13b-chat\", model_kwargs={\"temperature\":0.7, \"max_tokens\":15, \"top_p\":1.0})\n",
    "print(llm(\"What's the weather like in Kansas City in December?\"))"
   ]
  },
  {
   "cell_type": "markdown",
   "id": "137662a6",
   "metadata": {},
   "source": [
    "# Simple Chain with Non-Chat Model\n",
    "\n",
    "You can use the LangChain Expression Language to create a simple chain with non-chat models."
   ]
  },
  {
   "cell_type": "code",
   "execution_count": 11,
   "id": "fd2c6bc1",
   "metadata": {},
   "outputs": [
    {
     "name": "stdout",
     "output_type": "stream",
     "text": [
      "\n",
      "A bear walks into a bar and says, \"I'll have a beer and a muffin.\" The bartender says, \"Sorry, we don't serve muffins here.\" The bear says, \"OK, give me a beer and I'll make my own muffin.\"\n",
      "What do you call a bear with no teeth?\n",
      "A gummy bear.\n",
      "What do you call a bear with no teeth and no hair?\n",
      "\n"
     ]
    }
   ],
   "source": [
    "from langchain.prompts import PromptTemplate\n",
    "from langchain.llms.fireworks import Fireworks\n",
    "\n",
    "llm = Fireworks(\n",
    "    model=\"accounts/fireworks/models/llama-v2-13b\",\n",
    "    model_kwargs={\n",
    "        \"temperature\": 0,\n",
    "        \"max_tokens\": 100,\n",
    "        \"top_p\": 1.0,\n",
    "    },\n",
    ")\n",
    "prompt = PromptTemplate.from_template(\"Tell me a joke about {topic}?\")\n",
    "chain = prompt | llm\n",
    "\n",
    "print(chain.invoke({\"topic\": \"bears\"}))"
   ]
  },
  {
   "cell_type": "markdown",
   "id": "d0a29826",
   "metadata": {},
   "source": [
    "You can stream the output, if you want."
   ]
  },
  {
   "cell_type": "code",
   "execution_count": 12,
   "id": "f644ff28",
   "metadata": {},
   "outputs": [
    {
     "name": "stdout",
     "output_type": "stream",
     "text": [
      "\n",
      "A bear walks into a bar and says, \"I'll have a beer and a muffin.\" The bartender says, \"Sorry, we don't serve muffins here.\" The bear says, \"OK, give me a beer and I'll make my own muffin.\"\n",
      "What do you call a bear with no teeth?\n",
      "A gummy bear.\n",
      "What do you call a bear with no teeth and no hair?\n"
     ]
    }
   ],
   "source": [
    "for token in chain.stream({\"topic\": \"bears\"}):\n",
    "    print(token, end='', flush=True)"
   ]
  }
 ],
 "metadata": {
  "kernelspec": {
   "display_name": "Python 3 (ipykernel)",
   "language": "python",
   "name": "python3"
  },
  "language_info": {
   "codemirror_mode": {
    "name": "ipython",
    "version": 3
   },
   "file_extension": ".py",
   "mimetype": "text/x-python",
   "name": "python",
   "nbconvert_exporter": "python",
   "pygments_lexer": "ipython3",
   "version": "3.9.5"
  }
 },
 "nbformat": 4,
 "nbformat_minor": 5
}
